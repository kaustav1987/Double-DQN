{
  "nbformat": 4,
  "nbformat_minor": 0,
  "metadata": {
    "colab": {
      "name": "Double DQN  Kaustav Implementation.ipynb",
      "version": "0.3.2",
      "provenance": [],
      "collapsed_sections": []
    },
    "kernelspec": {
      "name": "python3",
      "display_name": "Python 3"
    },
    "accelerator": "GPU"
  },
  "cells": [
    {
      "cell_type": "markdown",
      "metadata": {
        "id": "W1WUmtXjfDsj",
        "colab_type": "text"
      },
      "source": [
        "# Double Deep Q-Network (Double DQN)\n",
        "---\n",
        "In this notebook, you will implement a DQN agent with OpenAI Gym's LunarLander-v2 environment.\n",
        "\n",
        "### 1. Import the Necessary Packages"
      ]
    },
    {
      "cell_type": "code",
      "metadata": {
        "id": "JZT6doLTe75s",
        "colab_type": "code",
        "outputId": "0f6d5c0f-377e-4262-8e10-e7d145467823",
        "colab": {
          "base_uri": "https://localhost:8080/",
          "height": 101
        }
      },
      "source": [
        "# memory footprint support libraries/code\n",
        "!ln -sf /opt/bin/nvidia-smi /usr/bin/nvidia-smi\n",
        "!pip install gputil\n",
        "!pip install psutil\n",
        "!pip install humanize\n",
        "import psutil\n",
        "import humanize\n",
        "import os\n",
        "import GPUtil as GPU\n",
        "GPUs = GPU.getGPUs()\n",
        "# XXX: only one GPU on Colab and isn’t guaranteed\n",
        "gpu = GPUs[0]\n",
        "def printm():\n",
        " process = psutil.Process(os.getpid())\n",
        " print(\"Gen RAM Free: \" + humanize.naturalsize( psutil.virtual_memory().available ), \" | Proc size: \" + humanize.naturalsize( process.memory_info().rss))\n",
        " print(\"GPU RAM Free: {0:.0f}MB | Used: {1:.0f}MB | Util {2:3.0f}% | Total {3:.0f}MB\".format(gpu.memoryFree, gpu.memoryUsed, gpu.memoryUtil*100, gpu.memoryTotal))\n",
        "printm()"
      ],
      "execution_count": 1,
      "outputs": [
        {
          "output_type": "stream",
          "text": [
            "Requirement already satisfied: gputil in /usr/local/lib/python3.6/dist-packages (1.4.0)\n",
            "Requirement already satisfied: psutil in /usr/local/lib/python3.6/dist-packages (5.4.8)\n",
            "Requirement already satisfied: humanize in /usr/local/lib/python3.6/dist-packages (0.5.1)\n",
            "Gen RAM Free: 10.7 GB  | Proc size: 154.7 MB\n",
            "GPU RAM Free: 14304MB | Used: 775MB | Util   5% | Total 15079MB\n"
          ],
          "name": "stdout"
        }
      ]
    },
    {
      "cell_type": "code",
      "metadata": {
        "id": "ymAnIyhQfJpv",
        "colab_type": "code",
        "outputId": "67a9368b-2d46-41de-aeef-0f221c1582de",
        "colab": {
          "base_uri": "https://localhost:8080/",
          "height": 840
        }
      },
      "source": [
        "!apt-get install -y python-numpy python-dev cmake zlib1g-dev libjpeg-dev xvfb libav-tools xorg-dev python-opengl libboost-all-dev libsdl2-dev swig\n",
        "!pip install pyvirtualdisplay\n",
        "##!pip install piglet\n",
        "!pip install pyglet==1.3.2  ###DONT CHANGE THE VERSION\n",
        "!apt-get install xvfb\n",
        "from pyvirtualdisplay import Display\n",
        "!apt-get install cmake\n",
        "!pip install setuptool\n",
        "!pip install ez_setup\n",
        "!pip install gym[atari] "
      ],
      "execution_count": 2,
      "outputs": [
        {
          "output_type": "stream",
          "text": [
            "Reading package lists... Done\n",
            "Building dependency tree       \n",
            "Reading state information... Done\n",
            "Package libav-tools is not available, but is referred to by another package.\n",
            "This may mean that the package is missing, has been obsoleted, or\n",
            "is only available from another source\n",
            "However the following packages replace it:\n",
            "  ffmpeg\n",
            "\n",
            "E: Package 'libav-tools' has no installation candidate\n",
            "Requirement already satisfied: pyvirtualdisplay in /usr/local/lib/python3.6/dist-packages (0.2.4)\n",
            "Requirement already satisfied: EasyProcess in /usr/local/lib/python3.6/dist-packages (from pyvirtualdisplay) (0.2.7)\n",
            "Requirement already satisfied: pyglet==1.3.2 in /usr/local/lib/python3.6/dist-packages (1.3.2)\n",
            "Requirement already satisfied: future in /usr/local/lib/python3.6/dist-packages (from pyglet==1.3.2) (0.16.0)\n",
            "Reading package lists... Done\n",
            "Building dependency tree       \n",
            "Reading state information... Done\n",
            "xvfb is already the newest version (2:1.19.6-1ubuntu4.3).\n",
            "The following package was automatically installed and is no longer required:\n",
            "  libnvidia-common-410\n",
            "Use 'apt autoremove' to remove it.\n",
            "0 upgraded, 0 newly installed, 0 to remove and 4 not upgraded.\n",
            "Reading package lists... Done\n",
            "Building dependency tree       \n",
            "Reading state information... Done\n",
            "cmake is already the newest version (3.10.2-1ubuntu2).\n",
            "The following package was automatically installed and is no longer required:\n",
            "  libnvidia-common-410\n",
            "Use 'apt autoremove' to remove it.\n",
            "0 upgraded, 0 newly installed, 0 to remove and 4 not upgraded.\n",
            "Collecting setuptool\n",
            "\u001b[31m  ERROR: Could not find a version that satisfies the requirement setuptool (from versions: none)\u001b[0m\n",
            "\u001b[31mERROR: No matching distribution found for setuptool\u001b[0m\n",
            "Requirement already satisfied: ez_setup in /usr/local/lib/python3.6/dist-packages (0.9)\n",
            "Requirement already satisfied: gym[atari] in /usr/local/lib/python3.6/dist-packages (0.10.11)\n",
            "Requirement already satisfied: pyglet>=1.2.0 in /usr/local/lib/python3.6/dist-packages (from gym[atari]) (1.3.2)\n",
            "Requirement already satisfied: scipy in /usr/local/lib/python3.6/dist-packages (from gym[atari]) (1.3.1)\n",
            "Requirement already satisfied: numpy>=1.10.4 in /usr/local/lib/python3.6/dist-packages (from gym[atari]) (1.16.4)\n",
            "Requirement already satisfied: requests>=2.0 in /usr/local/lib/python3.6/dist-packages (from gym[atari]) (2.21.0)\n",
            "Requirement already satisfied: six in /usr/local/lib/python3.6/dist-packages (from gym[atari]) (1.12.0)\n",
            "Requirement already satisfied: PyOpenGL; extra == \"atari\" in /usr/local/lib/python3.6/dist-packages (from gym[atari]) (3.1.0)\n",
            "Requirement already satisfied: Pillow; extra == \"atari\" in /usr/local/lib/python3.6/dist-packages (from gym[atari]) (4.3.0)\n",
            "Requirement already satisfied: atari-py>=0.1.4; extra == \"atari\" in /usr/local/lib/python3.6/dist-packages (from gym[atari]) (0.1.15)\n",
            "Requirement already satisfied: future in /usr/local/lib/python3.6/dist-packages (from pyglet>=1.2.0->gym[atari]) (0.16.0)\n",
            "Requirement already satisfied: idna<2.9,>=2.5 in /usr/local/lib/python3.6/dist-packages (from requests>=2.0->gym[atari]) (2.8)\n",
            "Requirement already satisfied: urllib3<1.25,>=1.21.1 in /usr/local/lib/python3.6/dist-packages (from requests>=2.0->gym[atari]) (1.24.3)\n",
            "Requirement already satisfied: chardet<3.1.0,>=3.0.2 in /usr/local/lib/python3.6/dist-packages (from requests>=2.0->gym[atari]) (3.0.4)\n",
            "Requirement already satisfied: certifi>=2017.4.17 in /usr/local/lib/python3.6/dist-packages (from requests>=2.0->gym[atari]) (2019.6.16)\n",
            "Requirement already satisfied: olefile in /usr/local/lib/python3.6/dist-packages (from Pillow; extra == \"atari\"->gym[atari]) (0.46)\n"
          ],
          "name": "stdout"
        }
      ]
    },
    {
      "cell_type": "code",
      "metadata": {
        "id": "tO_rmyb_f3Kh",
        "colab_type": "code",
        "outputId": "af739d00-9e25-4803-a964-a30fa671fcb9",
        "colab": {
          "base_uri": "https://localhost:8080/",
          "height": 336
        }
      },
      "source": [
        "!pip install box2d-py\n",
        "!pip install gym[Box_2D]\n",
        "import gym\n",
        "import random\n",
        "import torch\n",
        "import numpy as np\n",
        "from collections import deque\n",
        "import matplotlib.pyplot as plt\n",
        "%matplotlib inline\n",
        "\n",
        "\n",
        "!pip -m pip install pyvirtualdisplay\n",
        "from pyvirtualdisplay import Display\n",
        "display = Display(visible=0, size=(1400, 900))\n",
        "display.start()\n",
        "\n",
        "is_ipython = 'inline' in plt.get_backend()\n",
        "if is_ipython:\n",
        "    from IPython import display\n",
        "\n",
        "plt.ion()"
      ],
      "execution_count": 3,
      "outputs": [
        {
          "output_type": "stream",
          "text": [
            "Requirement already satisfied: box2d-py in /usr/local/lib/python3.6/dist-packages (2.3.8)\n",
            "Requirement already satisfied: gym[Box_2D] in /usr/local/lib/python3.6/dist-packages (0.10.11)\n",
            "\u001b[33m  WARNING: gym 0.10.11 does not provide the extra 'box_2d'\u001b[0m\n",
            "Requirement already satisfied: six in /usr/local/lib/python3.6/dist-packages (from gym[Box_2D]) (1.12.0)\n",
            "Requirement already satisfied: numpy>=1.10.4 in /usr/local/lib/python3.6/dist-packages (from gym[Box_2D]) (1.16.4)\n",
            "Requirement already satisfied: requests>=2.0 in /usr/local/lib/python3.6/dist-packages (from gym[Box_2D]) (2.21.0)\n",
            "Requirement already satisfied: scipy in /usr/local/lib/python3.6/dist-packages (from gym[Box_2D]) (1.3.1)\n",
            "Requirement already satisfied: pyglet>=1.2.0 in /usr/local/lib/python3.6/dist-packages (from gym[Box_2D]) (1.3.2)\n",
            "Requirement already satisfied: certifi>=2017.4.17 in /usr/local/lib/python3.6/dist-packages (from requests>=2.0->gym[Box_2D]) (2019.6.16)\n",
            "Requirement already satisfied: chardet<3.1.0,>=3.0.2 in /usr/local/lib/python3.6/dist-packages (from requests>=2.0->gym[Box_2D]) (3.0.4)\n",
            "Requirement already satisfied: urllib3<1.25,>=1.21.1 in /usr/local/lib/python3.6/dist-packages (from requests>=2.0->gym[Box_2D]) (1.24.3)\n",
            "Requirement already satisfied: idna<2.9,>=2.5 in /usr/local/lib/python3.6/dist-packages (from requests>=2.0->gym[Box_2D]) (2.8)\n",
            "Requirement already satisfied: future in /usr/local/lib/python3.6/dist-packages (from pyglet>=1.2.0->gym[Box_2D]) (0.16.0)\n",
            "\n",
            "Usage:   \n",
            "  pip3 <command> [options]\n",
            "\n",
            "no such option: -m\n"
          ],
          "name": "stdout"
        },
        {
          "output_type": "stream",
          "text": [
            "xdpyinfo was not found, X start can not be checked! Please install xdpyinfo!\n"
          ],
          "name": "stderr"
        }
      ]
    },
    {
      "cell_type": "markdown",
      "metadata": {
        "id": "So86pwYund1x",
        "colab_type": "text"
      },
      "source": [
        "Define Environment"
      ]
    },
    {
      "cell_type": "code",
      "metadata": {
        "id": "GI7LTn-Qncwc",
        "colab_type": "code",
        "outputId": "79c17dac-246d-4f53-b8a7-44d934ff6a0c",
        "colab": {
          "base_uri": "https://localhost:8080/",
          "height": 50
        }
      },
      "source": [
        "env = gym.make('LunarLander-v2')\n",
        "env.seed(0)\n",
        "print('State shape: ', env.observation_space.shape)\n",
        "print('Number of actions: ', env.action_space.n)"
      ],
      "execution_count": 4,
      "outputs": [
        {
          "output_type": "stream",
          "text": [
            "State shape:  (8,)\n",
            "Number of actions:  4\n"
          ],
          "name": "stdout"
        }
      ]
    },
    {
      "cell_type": "code",
      "metadata": {
        "id": "lt17L7o1k3X0",
        "colab_type": "code",
        "colab": {}
      },
      "source": [
        "##Network\n",
        "\n",
        "import torch\n",
        "import torch.nn as nn\n",
        "import torch.nn.functional as F\n",
        "\n",
        "class QNetwork(nn.Module):\n",
        "  \"\"\"Actor (Policy) Model.\"\"\"\n",
        "  def __init__(self, state_size, action_size, seed,fc1_size =64, fc2_size=64):\n",
        "    '''\n",
        "    Initialize Parameters\n",
        "    '''\n",
        "    super(QNetwork, self).__init__()\n",
        "    self.state_size = state_size\n",
        "    self.action_size = action_size\n",
        "    self.seed = torch.manual_seed(seed)\n",
        "    self.FC1_size = fc1_size\n",
        "    self.FC2_size = fc2_size\n",
        "    self.FC1 = nn.Linear(self.state_size, self.FC1_size)\n",
        "    self.FC2 = nn.Linear(self.FC1_size, self.FC2_size)\n",
        "    self.FC3 = nn.Linear(self.FC2_size, self.action_size)\n",
        "    \n",
        "  \n",
        "  def forward(self, state):\n",
        "    \"\"\"\n",
        "    Build a network that maps state -> action values.\n",
        "    \"\"\"\n",
        "    x = F.relu(self.FC1(state))\n",
        "    x = F.relu(self.FC2(x))\n",
        "    x = self.FC3(x)\n",
        "    return x"
      ],
      "execution_count": 0,
      "outputs": []
    },
    {
      "cell_type": "code",
      "metadata": {
        "id": "bS7fkQjAm6Mg",
        "colab_type": "code",
        "colab": {}
      },
      "source": [
        "import numpy as np\n",
        "import random\n",
        "from collections import namedtuple, deque\n",
        "\n",
        "import torch.optim as optim\n",
        "\n",
        "##HYPERPARAMETERS\n",
        "\n",
        "BUFFER_SIZE = int(1e5)  ##replay buffer size\n",
        "BATCH_SIZE  = 128       ##minibatch size\n",
        "GAMMA  = .99            ##discount factor\n",
        "TAU = 1e-3              # for soft update of target parameters\n",
        "LR = 5e-4               # learning rate\n",
        "#LR = 1e-5  \n",
        "\n",
        "UPDATE_EVERY = 4        ## how often local network gets copied to target network\n",
        "\n",
        "if torch.cuda.is_available():\n",
        "  device = torch.device(\"cuda:0\")\n",
        "else:\n",
        "  device = torch.device(\"cpu\")\n",
        "\n",
        "  \n"
      ],
      "execution_count": 0,
      "outputs": []
    },
    {
      "cell_type": "code",
      "metadata": {
        "id": "2MZPZoas1DF6",
        "colab_type": "code",
        "colab": {}
      },
      "source": [
        "## Define the Replay Buffer ( Deque)\n",
        "\n",
        "class ReplayBuffer:\n",
        "  \"\"\"\n",
        "  Fixed-size buffer to store experience tuples.\n",
        "  \"\"\"\n",
        "  def __init__(self,action_size, buffer_size, batch_size, seed):\n",
        "    self.seed = random.seed(seed)\n",
        "    self.buffer_size = buffer_size\n",
        "    self.batch_size = batch_size\n",
        "    self.action_size = action_size\n",
        "    \n",
        "    \n",
        "    self.experience = namedtuple(\"Experience\", field_names =[\"state\", \"actions\",\"rewards\",\"next_state\", \"done\"])\n",
        "    self.memory = deque(maxlen= buffer_size)\n",
        "    \n",
        "  def add(self, state, action,rewards, next_state, done):\n",
        "      \n",
        "    experience = self.experience(state, action,rewards,next_state, done)\n",
        "    self.memory.append(experience)\n",
        "      \n",
        "  def sample(self):\n",
        "    '''\n",
        "    Randomly sample a batch from experience\n",
        "    '''\n",
        "      \n",
        "    experiences = random.sample(self.memory,k = self.batch_size)\n",
        "      \n",
        "    state = torch.from_numpy(np.vstack([e.state for e in experiences if e is not None])).float().to(device)\n",
        "    actions = torch.from_numpy(np.vstack([e.actions for e in experiences if e is not None])).long().to(device)  ## dont change to float\n",
        "    rewards = torch.from_numpy(np.vstack([e.rewards for e in experiences if e is not None])).float().to(device)\n",
        "    next_state = torch.from_numpy(np.vstack([e.next_state for e in experiences if e is not None])).float().to(device)\n",
        "    done = torch.from_numpy(np.vstack([e.done for e in experiences if e is not None])).float().to(device)\n",
        "      \n",
        "    return state,actions, rewards, next_state, done\n",
        "  def __len__(self):\n",
        "    \"\"\"\n",
        "    Return the current size of internal memory.\n",
        "    \"\"\"\n",
        "    return len(self.memory)\n",
        "    \n"
      ],
      "execution_count": 0,
      "outputs": []
    },
    {
      "cell_type": "code",
      "metadata": {
        "id": "lP62kie9ubf6",
        "colab_type": "code",
        "colab": {
          "base_uri": "https://localhost:8080/",
          "height": 84
        },
        "outputId": "d3d37e1a-1370-4986-e6ea-8b543480e17f"
      },
      "source": [
        "##A small guide before diving into Double DQN to see how these functions works\n",
        "\n",
        "import torch\n",
        "\n",
        "t = torch.tensor([[2,1],\n",
        "                  [3,4]])\n",
        "\n",
        "#t = torch.tensor([1,2,3],\n",
        "#                )\n",
        "\n",
        "#torch.gather(t, 1, torch.tensor([[1,0],[1,0]]))\n",
        "\n",
        "print(t.gather(1, torch.tensor([[0],[1]])))\n",
        "\n",
        "\n",
        "print(torch.max(t,1)[0])\n",
        "print(torch.max(t,1)[1])"
      ],
      "execution_count": 15,
      "outputs": [
        {
          "output_type": "stream",
          "text": [
            "tensor([[2],\n",
            "        [4]])\n",
            "tensor([2, 4])\n",
            "tensor([0, 1])\n"
          ],
          "name": "stdout"
        }
      ]
    },
    {
      "cell_type": "code",
      "metadata": {
        "id": "kHLpz6dJ1ExI",
        "colab_type": "code",
        "colab": {}
      },
      "source": [
        "## Define the Agent\n",
        "\n",
        "class Agent():\n",
        "  '''\n",
        "  Interacts with and learns from the environment.\n",
        "  '''\n",
        "  def __init__(self,state_size,action_size, seed,batch_size= BATCH_SIZE,buffer_size= BUFFER_SIZE,lr=LR , gamma= GAMMA ):\n",
        "    \n",
        "    self.state_size = state_size\n",
        "    self.action_size = action_size\n",
        "    self.buffer_size = buffer_size\n",
        "    self.batch_size = batch_size\n",
        "    self.lr = lr\n",
        "    self.gamma = gamma\n",
        "    \n",
        "    self.seed = random.seed(seed)\n",
        "    \n",
        "    # Q-Network\n",
        "    self.qnetwork_local =  QNetwork(self.state_size, self.action_size, seed).to(device)\n",
        "    self.qnetwork_target = QNetwork(self.state_size , self.action_size, seed).to(device)\n",
        "    self.optimizer = optim.Adam(self.qnetwork_local.parameters(),lr= self.lr)\n",
        "    self.criterion = nn.MSELoss()\n",
        "    \n",
        "    # Replay memory\n",
        "    self.memory = ReplayBuffer(action_size, buffer_size, batch_size, seed)\n",
        "    # Initialize time step (for updating every UPDATE_EVERY steps)\n",
        "    self.t_step = 0\n",
        "  \n",
        "  \n",
        "  def step(self,state,actions,rewards, next_state,done):\n",
        "    self.memory.add(state,actions,rewards, next_state,done)\n",
        "    self.t_step =(self.t_step + 1)% UPDATE_EVERY\n",
        "    ## dont learn whenever 1 batch is added.\n",
        "    ##Rather wait for UPDATE_EVERY batch to be added before we call learn once\n",
        "    if self.t_step==0:\n",
        "      if len(self.memory)> self.batch_size:\n",
        "        experiences = self.memory.sample()\n",
        "        self.learn(experiences, self.gamma)\n",
        "    \n",
        "  def learn(self,experiences, gamma):\n",
        "    \"\"\"\n",
        "    Update value parameters using given batch of experience tuples.\n",
        "    \"\"\"\n",
        "    state, actions, rewards,next_state, done = experiences \n",
        "    #target_q = self.qnetwork_target(next_state).detach()\n",
        "    ##target_values = rewards + gamma*torch.max(target_q, 1)[0].unsqueeze(1)*(1-done)\n",
        "    #current_values= self.qnetwork_local(state).gather(1, actions)\n",
        "    \n",
        "    #Double DQN\n",
        "    \n",
        "    current_values= self.qnetwork_local(state).gather(1, actions)\n",
        "    #print('current_values',current_values.shape)\n",
        "    target_q = self.qnetwork_local(next_state)\n",
        "    #print(target_q.shape)\n",
        "    #target_q = torch.max(target_q, 1)[1].unsqueeze(1) #get the indices same as argmax\n",
        "    target_q = torch.max(target_q, 1)[1].unsqueeze(1)\n",
        "    #print('actions',actions.shape)\n",
        "    #print('target_q',target_q.shape)\n",
        "    #print(target_q.shape)\n",
        "    target_values = rewards + gamma*self.qnetwork_target(next_state).gather(1, target_q)*(1-done)\n",
        "    #print('target_values',target_values.shape)\n",
        "    \n",
        "    \n",
        "    #q_values      = current_model(state)\n",
        "    #q_value       = q_values.gather(1, action.unsqueeze(1)).squeeze(1) \n",
        "    #next_q_values = current_model(next_state)\n",
        "    #next_q_state_values = target_model(next_state) \n",
        "\n",
        "    \n",
        "    #next_q_value = next_q_state_values.gather(1, torch.max(next_q_values, 1)[1].unsqueeze(1)).squeeze(1)\n",
        "    #expected_q_value = reward + gamma * next_q_value * (1 - done)\n",
        "    #loss = (q_value - Variable(expected_q_value.data)).pow(2).mean()\n",
        "    \n",
        "    # Get expected Q values from local model\n",
        "    \n",
        "    ##print(state.shape)\n",
        "    ##print('actions:',actions)\n",
        "    \n",
        "    \n",
        "    \n",
        "    \n",
        "    ##current_value = self.qnetwork_local(states).gather(1,actions)\n",
        "    ##print(current_values.shape)\n",
        "    \n",
        "    \n",
        "    # Compute loss\n",
        "    loss = self.criterion(current_values,target_values)\n",
        "    \n",
        "    ##optimization step\n",
        "    self.optimizer.zero_grad()\n",
        "    loss.backward()\n",
        "    self.optimizer.step()\n",
        "    \n",
        "    # ----- Update the target network -----\n",
        "    if self.t_step==0:\n",
        "      ## when it comes here self.t_step will always be 0 anyways. \n",
        "      ## So you may remove this if condition\n",
        "      self.soft_update(self.qnetwork_local, self.qnetwork_target,TAU)\n",
        "    \n",
        "  def soft_update(self, qnetwork_local, qnetwork_target,tau):\n",
        "    '''\n",
        "    Update the target Q Network\n",
        "    '''\n",
        "    for local_parms, target_parms in zip(qnetwork_local.parameters(), qnetwork_target.parameters()):\n",
        "      target_parms.data.copy_(tau*local_parms.data + (1.0 -tau)*target_parms.data)\n",
        "        \n",
        "        \n",
        "  def act(self, state, epsilon =0.0):\n",
        "\n",
        "    \"\"\"\n",
        "    Returns actions for given state as per current policy.\n",
        "    \"\"\"\n",
        "    state = torch.from_numpy(state).float().unsqueeze(0).to(device)\n",
        "\n",
        "    self.qnetwork_local.eval()\n",
        "    with torch.no_grad():\n",
        "      actions_values = self.qnetwork_local(state)\n",
        "\n",
        "    ##Back to train mode\n",
        "    self.qnetwork_local.train()\n",
        "\n",
        "    # Epsilon-greedy action selection\n",
        "\n",
        "    if random.random() > epsilon:\n",
        "      return np.argmax(actions_values.cpu().data.numpy())\n",
        "    else:\n",
        "      return np.random.choice(np.arange(self.action_size))\n",
        "      \n",
        "    "
      ],
      "execution_count": 0,
      "outputs": []
    },
    {
      "cell_type": "code",
      "metadata": {
        "id": "j4BeNf1adeSF",
        "colab_type": "code",
        "colab": {}
      },
      "source": [
        "def dqn(n_episodes = 2000, max_t = 1000, eps_start = 1.0, eps_end = .01, eps_decay = 0.995, trained_score=200.0):\n",
        "  scores =[]\n",
        "  scores_window = deque(maxlen = 100)\n",
        "  eps = eps_start\n",
        "  \n",
        "  for episode in range(1, n_episodes+1):\n",
        "    state = env.reset()\n",
        "    score = 0\n",
        "    for t in range(max_t):\n",
        "      action = agent.act(state,eps)\n",
        "      next_state , rewards, done, _ = env.step(action)\n",
        "      agent.step(state, action,rewards,next_state ,  done )\n",
        "      state = next_state\n",
        "      score += rewards\n",
        "      if done:\n",
        "        break\n",
        "    scores_window.append(score)\n",
        "    scores.append(score)\n",
        "    eps = max(eps_end, eps*eps_decay)  ## reduce randomness epsilon as we learn\n",
        "    print('\\rEpisode {}\\tAverage Score: {:.2f}'.format(episode, np.mean(scores_window)), end=\"\")\n",
        "    if episode % 100 == 0:\n",
        "      print('\\rEpisode {}\\tAverage Score: {:.2f}'.format(episode, np.mean(scores_window)))\n",
        "    ##if np.mean(scores_window)>=200.0:\n",
        "    if np.mean(scores_window)>=trained_score:\n",
        "        print('\\nEnvironment solved in {:d} episodes!\\tAverage Score: {:.2f}'.format(episode-100, np.mean(scores_window)))\n",
        "        torch.save(agent.qnetwork_local.state_dict(), 'checkpoint.pth')\n",
        "        break\n",
        "  return scores\n",
        "    \n",
        "  \n"
      ],
      "execution_count": 0,
      "outputs": []
    },
    {
      "cell_type": "code",
      "metadata": {
        "id": "Mdjdjye7k-WY",
        "colab_type": "code",
        "outputId": "47b80aef-e8b7-4486-a273-7ce50a337d7c",
        "colab": {
          "base_uri": "https://localhost:8080/",
          "height": 434
        }
      },
      "source": [
        "env_observation_space = 8\n",
        "env_action_space = 4\n",
        "\n",
        "agent = Agent(env_observation_space ,env_action_space, seed=0 )\n",
        "scores = dqn()\n",
        "# plot the scores\n",
        "fig = plt.figure()\n",
        "ax = fig.add_subplot(111)\n",
        "plt.plot(np.arange(len(scores)) , scores)\n",
        "\n",
        "plt.xlabel('Episodes')\n",
        "plt.ylabel('Scores')\n",
        "plt.show()"
      ],
      "execution_count": 18,
      "outputs": [
        {
          "output_type": "stream",
          "text": [
            "Episode 100\tAverage Score: -168.28\n",
            "Episode 200\tAverage Score: -82.69\n",
            "Episode 300\tAverage Score: -34.63\n",
            "Episode 400\tAverage Score: 17.59\n",
            "Episode 500\tAverage Score: 112.48\n",
            "Episode 600\tAverage Score: 157.79\n",
            "Episode 700\tAverage Score: 157.48\n",
            "Episode 797\tAverage Score: 200.37\n",
            "Environment solved in 697 episodes!\tAverage Score: 200.37\n"
          ],
          "name": "stdout"
        },
        {
          "output_type": "display_data",
          "data": {
            "image/png": "[encoded data removed]",
            "text/plain": [
              "<Figure size 432x288 with 1 Axes>"
            ]
          },
          "metadata": {
            "tags": []
          }
        }
      ]
    },
    {
      "cell_type": "code",
      "metadata": {
        "id": "W-BIPRRL1fBN",
        "colab_type": "code",
        "colab": {}
      },
      "source": [
        ""
      ],
      "execution_count": 0,
      "outputs": []
    },
    {
      "cell_type": "code",
      "metadata": {
        "id": "fComFphRnQ-o",
        "colab_type": "code",
        "colab": {}
      },
      "source": [
        "# load the weights from file\n",
        "agent.qnetwork_local.load_state_dict(torch.load('checkpoint.pth'))\n",
        "\n",
        "for i in range(3):\n",
        "    state = env.reset()\n",
        "    img = plt.imshow(env.render(mode='rgb_array'))\n",
        "    for j in range(200):\n",
        "        action = agent.act(state)\n",
        "        img.set_data(env.render(mode='rgb_array')) \n",
        "        plt.axis('off')\n",
        "        display.display(plt.gcf())\n",
        "        display.clear_output(wait=True)\n",
        "        state, reward, done, _ = env.step(action)\n",
        "        if done:\n",
        "            break \n",
        "            \n"
      ],
      "execution_count": 0,
      "outputs": []
    },
    {
      "cell_type": "code",
      "metadata": {
        "id": "TN7Y4UF9zP7s",
        "colab_type": "code",
        "colab": {}
      },
      "source": [
        "env.close()"
      ],
      "execution_count": 0,
      "outputs": []
    },
    {
      "cell_type": "markdown",
      "metadata": {
        "id": "Hn4r-0UO3-vw",
        "colab_type": "text"
      },
      "source": [
        "CartPole-v0"
      ]
    },
    {
      "cell_type": "code",
      "metadata": {
        "id": "rYwjanys2Vsh",
        "colab_type": "code",
        "colab": {}
      },
      "source": [
        "env_id = \"CartPole-v0\"\n",
        "env = gym.make(env_id)"
      ],
      "execution_count": 0,
      "outputs": []
    },
    {
      "cell_type": "code",
      "metadata": {
        "id": "GqoW8lPZ4FKu",
        "colab_type": "code",
        "outputId": "6f86167d-488f-4dac-d718-23d0312592c7",
        "colab": {
          "base_uri": "https://localhost:8080/",
          "height": 34
        }
      },
      "source": [
        "env.observation_space.shape[0]"
      ],
      "execution_count": 0,
      "outputs": [
        {
          "output_type": "execute_result",
          "data": {
            "text/plain": [
              "4"
            ]
          },
          "metadata": {
            "tags": []
          },
          "execution_count": 132
        }
      ]
    },
    {
      "cell_type": "code",
      "metadata": {
        "id": "Wn9ws_Jq4F-d",
        "colab_type": "code",
        "outputId": "2559051a-d3f8-4118-cb66-dd3fa0bbac46",
        "colab": {
          "base_uri": "https://localhost:8080/",
          "height": 34
        }
      },
      "source": [
        "env.action_space.n"
      ],
      "execution_count": 0,
      "outputs": [
        {
          "output_type": "execute_result",
          "data": {
            "text/plain": [
              "2"
            ]
          },
          "metadata": {
            "tags": []
          },
          "execution_count": 133
        }
      ]
    },
    {
      "cell_type": "code",
      "metadata": {
        "id": "xr2KEecB4Kmf",
        "colab_type": "code",
        "outputId": "41806f6d-46c9-40da-eaaa-d4edc38e2353",
        "colab": {
          "base_uri": "https://localhost:8080/",
          "height": 468
        }
      },
      "source": [
        "agent = Agent(env.observation_space.shape[0] ,env.action_space.n, seed=0 )\n",
        "scores = dqn(n_episodes = 2000, max_t = 1000, eps_start = 1.0, eps_end = .01, eps_decay = 0.995, trained_score=170.0)\n",
        "# plot the scores\n",
        "fig = plt.figure()\n",
        "ax = fig.add_subplot(111)\n",
        "plt.plot(np.arange(len(scores)) , scores)\n",
        "\n",
        "plt.xlabel('Episodes')\n",
        "plt.ylabel('Scores')\n",
        "plt.show()"
      ],
      "execution_count": 0,
      "outputs": [
        {
          "output_type": "stream",
          "text": [
            "Episode 100\tAverage Score: 16.94\n",
            "Episode 200\tAverage Score: 12.58\n",
            "Episode 300\tAverage Score: 11.31\n",
            "Episode 400\tAverage Score: 10.57\n",
            "Episode 500\tAverage Score: 9.82\n",
            "Episode 600\tAverage Score: 10.43\n",
            "Episode 700\tAverage Score: 11.84\n",
            "Episode 800\tAverage Score: 79.15\n",
            "Episode 900\tAverage Score: 165.73\n",
            "Episode 943\tAverage Score: 170.10\n",
            "Environment solved in 843 episodes!\tAverage Score: 170.10\n"
          ],
          "name": "stdout"
        },
        {
          "output_type": "display_data",
          "data": {
            "image/png": "[encoded data removed]",
            "text/plain": [
              "<Figure size 432x288 with 1 Axes>"
            ]
          },
          "metadata": {
            "tags": []
          }
        }
      ]
    },
    {
      "cell_type": "code",
      "metadata": {
        "id": "3nHoYvMG4o9L",
        "colab_type": "code",
        "colab": {}
      },
      "source": [
        "##Environment states reshaped"
      ],
      "execution_count": 0,
      "outputs": []
    },
    {
      "cell_type": "code",
      "metadata": {
        "id": "4hyYQgaA9Aa8",
        "colab_type": "code",
        "colab": {}
      },
      "source": [
        "import numpy as np\n",
        "from collections import deque\n",
        "import gym\n",
        "from gym import spaces\n",
        "import cv2\n",
        "cv2.ocl.setUseOpenCL(False)\n",
        "\n",
        "class NoopResetEnv(gym.Wrapper):\n",
        "    def __init__(self, env, noop_max=30):\n",
        "        \"\"\"Sample initial states by taking random number of no-ops on reset.\n",
        "        No-op is assumed to be action 0.\n",
        "        \"\"\"\n",
        "        gym.Wrapper.__init__(self, env)\n",
        "        self.noop_max = noop_max\n",
        "        self.override_num_noops = None\n",
        "        self.noop_action = 0\n",
        "        assert env.unwrapped.get_action_meanings()[0] == 'NOOP'\n",
        "\n",
        "    def reset(self, **kwargs):\n",
        "        \"\"\" Do no-op action for a number of steps in [1, noop_max].\"\"\"\n",
        "        self.env.reset(**kwargs)\n",
        "        if self.override_num_noops is not None:\n",
        "            noops = self.override_num_noops\n",
        "        else:\n",
        "            noops = self.unwrapped.np_random.randint(1, self.noop_max + 1) #pylint: disable=E1101\n",
        "        assert noops > 0\n",
        "        obs = None\n",
        "        for _ in range(noops):\n",
        "            obs, _, done, _ = self.env.step(self.noop_action)\n",
        "            if done:\n",
        "                obs = self.env.reset(**kwargs)\n",
        "        return obs\n",
        "\n",
        "    def step(self, ac):\n",
        "        return self.env.step(ac)\n",
        "\n",
        "class FireResetEnv(gym.Wrapper):\n",
        "    def __init__(self, env):\n",
        "        \"\"\"Take action on reset for environments that are fixed until firing.\"\"\"\n",
        "        gym.Wrapper.__init__(self, env)\n",
        "        assert env.unwrapped.get_action_meanings()[1] == 'FIRE'\n",
        "        assert len(env.unwrapped.get_action_meanings()) >= 3\n",
        "\n",
        "    def reset(self, **kwargs):\n",
        "        self.env.reset(**kwargs)\n",
        "        obs, _, done, _ = self.env.step(1)\n",
        "        if done:\n",
        "            self.env.reset(**kwargs)\n",
        "        obs, _, done, _ = self.env.step(2)\n",
        "        if done:\n",
        "            self.env.reset(**kwargs)\n",
        "        return obs\n",
        "\n",
        "    def step(self, ac):\n",
        "        return self.env.step(ac)\n",
        "\n",
        "class EpisodicLifeEnv(gym.Wrapper):\n",
        "    def __init__(self, env):\n",
        "        \"\"\"Make end-of-life == end-of-episode, but only reset on true game over.\n",
        "        Done by DeepMind for the DQN and co. since it helps value estimation.\n",
        "        \"\"\"\n",
        "        gym.Wrapper.__init__(self, env)\n",
        "        self.lives = 0\n",
        "        self.was_real_done  = True\n",
        "\n",
        "    def step(self, action):\n",
        "        obs, reward, done, info = self.env.step(action)\n",
        "        self.was_real_done = done\n",
        "        # check current lives, make loss of life terminal,\n",
        "        # then update lives to handle bonus lives\n",
        "        lives = self.env.unwrapped.ale.lives()\n",
        "        if lives < self.lives and lives > 0:\n",
        "            # for Qbert sometimes we stay in lives == 0 condtion for a few frames\n",
        "            # so its important to keep lives > 0, so that we only reset once\n",
        "            # the environment advertises done.\n",
        "            done = True\n",
        "        self.lives = lives\n",
        "        return obs, reward, done, info\n",
        "\n",
        "    def reset(self, **kwargs):\n",
        "        \"\"\"Reset only when lives are exhausted.\n",
        "        This way all states are still reachable even though lives are episodic,\n",
        "        and the learner need not know about any of this behind-the-scenes.\n",
        "        \"\"\"\n",
        "        if self.was_real_done:\n",
        "            obs = self.env.reset(**kwargs)\n",
        "        else:\n",
        "            # no-op step to advance from terminal/lost life state\n",
        "            obs, _, _, _ = self.env.step(0)\n",
        "        self.lives = self.env.unwrapped.ale.lives()\n",
        "        return obs\n",
        "\n",
        "class MaxAndSkipEnv(gym.Wrapper):\n",
        "    def __init__(self, env, skip=4):\n",
        "        \"\"\"Return only every `skip`-th frame\"\"\"\n",
        "        gym.Wrapper.__init__(self, env)\n",
        "        # most recent raw observations (for max pooling across time steps)\n",
        "        self._obs_buffer = np.zeros((2,)+env.observation_space.shape, dtype=np.uint8)\n",
        "        self._skip       = skip\n",
        "\n",
        "    def reset(self):\n",
        "        return self.env.reset()\n",
        "\n",
        "    def step(self, action):\n",
        "        \"\"\"Repeat action, sum reward, and max over last observations.\"\"\"\n",
        "        total_reward = 0.0\n",
        "        done = None\n",
        "        for i in range(self._skip):\n",
        "            obs, reward, done, info = self.env.step(action)\n",
        "            if i == self._skip - 2: self._obs_buffer[0] = obs\n",
        "            if i == self._skip - 1: self._obs_buffer[1] = obs\n",
        "            total_reward += reward\n",
        "            if done:\n",
        "                break\n",
        "        # Note that the observation on the done=True frame\n",
        "        # doesn't matter\n",
        "        max_frame = self._obs_buffer.max(axis=0)\n",
        "\n",
        "        return max_frame, total_reward, done, info\n",
        "\n",
        "    def reset(self, **kwargs):\n",
        "        return self.env.reset(**kwargs)\n",
        "\n",
        "class ClipRewardEnv(gym.RewardWrapper):\n",
        "    def __init__(self, env):\n",
        "        gym.RewardWrapper.__init__(self, env)\n",
        "\n",
        "    def reward(self, reward):\n",
        "        \"\"\"Bin reward to {+1, 0, -1} by its sign.\"\"\"\n",
        "        return np.sign(reward)\n",
        "\n",
        "class WarpFrame(gym.ObservationWrapper):\n",
        "    def __init__(self, env):\n",
        "        \"\"\"Warp frames to 84x84 as done in the Nature paper and later work.\"\"\"\n",
        "        gym.ObservationWrapper.__init__(self, env)\n",
        "        self.width = 84\n",
        "        self.height = 84\n",
        "        self.observation_space = spaces.Box(low=0, high=255,\n",
        "            shape=(self.height, self.width, 1), dtype=np.uint8)\n",
        "\n",
        "    def observation(self, frame):\n",
        "        frame = cv2.cvtColor(frame, cv2.COLOR_RGB2GRAY)\n",
        "        frame = cv2.resize(frame, (self.width, self.height), interpolation=cv2.INTER_AREA)\n",
        "        return frame[:, :, None]\n",
        "\n",
        "class FrameStack(gym.Wrapper):\n",
        "    def __init__(self, env, k):\n",
        "        \"\"\"Stack k last frames.\n",
        "        Returns lazy array, which is much more memory efficient.\n",
        "        See Also\n",
        "        --------\n",
        "        baselines.common.atari_wrappers.LazyFrames\n",
        "        \"\"\"\n",
        "        gym.Wrapper.__init__(self, env)\n",
        "        self.k = k\n",
        "        self.frames = deque([], maxlen=k)\n",
        "        shp = env.observation_space.shape\n",
        "        self.observation_space = spaces.Box(low=0, high=255, shape=(shp[0], shp[1], shp[2] * k), dtype=np.uint8)\n",
        "\n",
        "    def reset(self):\n",
        "        ob = self.env.reset()\n",
        "        for _ in range(self.k):\n",
        "            self.frames.append(ob)\n",
        "        return self._get_ob()\n",
        "\n",
        "    def step(self, action):\n",
        "        ob, reward, done, info = self.env.step(action)\n",
        "        self.frames.append(ob)\n",
        "        return self._get_ob(), reward, done, info\n",
        "\n",
        "    def _get_ob(self):\n",
        "        assert len(self.frames) == self.k\n",
        "        return LazyFrames(list(self.frames))\n",
        "\n",
        "class ScaledFloatFrame(gym.ObservationWrapper):\n",
        "    def __init__(self, env):\n",
        "        gym.ObservationWrapper.__init__(self, env)\n",
        "\n",
        "    def observation(self, observation):\n",
        "        # careful! This undoes the memory optimization, use\n",
        "        # with smaller replay buffers only.\n",
        "        return np.array(observation).astype(np.float32) / 255.0\n",
        "\n",
        "class LazyFrames(object):\n",
        "    def __init__(self, frames):\n",
        "        \"\"\"This object ensures that common frames between the observations are only stored once.\n",
        "        It exists purely to optimize memory usage which can be huge for DQN's 1M frames replay\n",
        "        buffers.\n",
        "        This object should only be converted to numpy array before being passed to the model.\n",
        "        You'd not believe how complex the previous solution was.\"\"\"\n",
        "        self._frames = frames\n",
        "        self._out = None\n",
        "\n",
        "    def _force(self):\n",
        "        if self._out is None:\n",
        "            self._out = np.concatenate(self._frames, axis=2)\n",
        "            self._frames = None\n",
        "        return self._out\n",
        "\n",
        "    def __array__(self, dtype=None):\n",
        "        out = self._force()\n",
        "        if dtype is not None:\n",
        "            out = out.astype(dtype)\n",
        "        return out\n",
        "\n",
        "    def __len__(self):\n",
        "        return len(self._force())\n",
        "\n",
        "    def __getitem__(self, i):\n",
        "        return self._force()[i]\n",
        "\n",
        "def make_atari(env_id):\n",
        "    env = gym.make(env_id)\n",
        "    assert 'NoFrameskip' in env.spec.id\n",
        "    env = NoopResetEnv(env, noop_max=30)\n",
        "    env = MaxAndSkipEnv(env, skip=4)\n",
        "    return env\n",
        "\n",
        "def wrap_deepmind(env, episode_life=True, clip_rewards=True, frame_stack=False, scale=False):\n",
        "    \"\"\"Configure environment for DeepMind-style Atari.\n",
        "    \"\"\"\n",
        "    if episode_life:\n",
        "        env = EpisodicLifeEnv(env)\n",
        "    if 'FIRE' in env.unwrapped.get_action_meanings():\n",
        "        env = FireResetEnv(env)\n",
        "    env = WarpFrame(env)\n",
        "    if scale:\n",
        "        env = ScaledFloatFrame(env)\n",
        "    if clip_rewards:\n",
        "        env = ClipRewardEnv(env)\n",
        "    if frame_stack:\n",
        "        env = FrameStack(env, 4)\n",
        "    return env\n",
        "\n",
        "\n",
        "\n",
        "class ImageToPyTorch(gym.ObservationWrapper):\n",
        "    \"\"\"\n",
        "    Image shape to num_channels x weight x height\n",
        "    \"\"\"\n",
        "    def __init__(self, env):\n",
        "        super(ImageToPyTorch, self).__init__(env)\n",
        "        old_shape = self.observation_space.shape\n",
        "        self.observation_space = gym.spaces.Box(low=0.0, high=1.0, shape=(old_shape[-1], old_shape[0], old_shape[1]), dtype=np.uint8)\n",
        "\n",
        "    def observation(self, observation):\n",
        "        return np.swapaxes(observation, 2, 0)\n",
        "    \n",
        "\n",
        "def wrap_pytorch(env):\n",
        "    return ImageToPyTorch(env)"
      ],
      "execution_count": 0,
      "outputs": []
    },
    {
      "cell_type": "code",
      "metadata": {
        "id": "-snbX5BP9wpo",
        "colab_type": "code",
        "colab": {}
      },
      "source": [
        "env_id = \"PongNoFrameskip-v4\"\n",
        "env    = make_atari(env_id)\n",
        "env    = wrap_deepmind(env)\n",
        "env    = wrap_pytorch(env)"
      ],
      "execution_count": 0,
      "outputs": []
    },
    {
      "cell_type": "code",
      "metadata": {
        "id": "IQJCldB3cq2I",
        "colab_type": "code",
        "outputId": "f5a424ae-fa26-4f70-e77f-b2ba6d8867dd",
        "colab": {
          "base_uri": "https://localhost:8080/",
          "height": 34
        }
      },
      "source": [
        "env.observation_space.shape"
      ],
      "execution_count": 0,
      "outputs": [
        {
          "output_type": "execute_result",
          "data": {
            "text/plain": [
              "(1, 84, 84)"
            ]
          },
          "metadata": {
            "tags": []
          },
          "execution_count": 19
        }
      ]
    },
    {
      "cell_type": "code",
      "metadata": {
        "id": "BZlATdlqfu8V",
        "colab_type": "code",
        "outputId": "85811cde-9530-4717-b1a8-87298bc27ad5",
        "colab": {
          "base_uri": "https://localhost:8080/",
          "height": 34
        }
      },
      "source": [
        "env.observation_space.shape[0]"
      ],
      "execution_count": 0,
      "outputs": [
        {
          "output_type": "execute_result",
          "data": {
            "text/plain": [
              "1"
            ]
          },
          "metadata": {
            "tags": []
          },
          "execution_count": 20
        }
      ]
    },
    {
      "cell_type": "markdown",
      "metadata": {
        "id": "Q1FlcRC06xuX",
        "colab_type": "text"
      },
      "source": [
        "I have made some minor changes to deal with the state which is fed into conv Layer."
      ]
    },
    {
      "cell_type": "code",
      "metadata": {
        "id": "GCarqeUk90fN",
        "colab_type": "code",
        "colab": {}
      },
      "source": [
        "import torch\n",
        "import torch.nn as nn\n",
        "import torch.nn.functional as F\n",
        "\n",
        "class QNetwork(nn.Module):\n",
        "  \"\"\"Actor (Policy) Model.\"\"\"\n",
        "  def __init__(self, state_size, action_size, seed,):\n",
        "    '''\n",
        "    Initialize Parameters\n",
        "    '''\n",
        "    super(QNetwork, self).__init__()\n",
        "    self.state_size = state_size\n",
        "    self.action_size = action_size\n",
        "    \n",
        "    self.features = nn.Sequential(\n",
        "            nn.Conv2d(self.state_size[0], 32, kernel_size=8, stride =4),\n",
        "            nn.ReLU(),\n",
        "            nn.Conv2d(32, 64, kernel_size=4, stride =2),\n",
        "            nn.ReLU(),\n",
        "            nn.Conv2d(64, 64, kernel_size=3, stride =1),\n",
        "            nn.ReLU()\n",
        "    )\n",
        "    \n",
        "    self.fc = nn.Sequential(\n",
        "            ##nn.Linear(self.feature_size(), 512),\n",
        "            nn.Linear(3136, 512),\n",
        "            nn.ReLU(),\n",
        "            nn.Linear(512, self.action_size)\n",
        "    )\n",
        "    \n",
        "  \n",
        "  def forward(self, state):\n",
        "    \"\"\"\n",
        "    Build a network that maps state -> action values.\n",
        "    \"\"\"\n",
        "    \n",
        "    #print('$$',state.shape)\n",
        "    x = self.features(state)\n",
        "    x = x.reshape(state.shape[0],-1)\n",
        "    ##print('--',x.shape)\n",
        "    \n",
        "    \n",
        "    x = self.fc(x)\n",
        "    return x\n",
        "  \n",
        "  def feature_size(self):\n",
        "    return self.features(autograd.Variable(torch.zeros(1, *self.state_size))).view(1, -1).size(1)"
      ],
      "execution_count": 0,
      "outputs": []
    },
    {
      "cell_type": "code",
      "metadata": {
        "id": "bnVLIunsq_hA",
        "colab_type": "code",
        "colab": {}
      },
      "source": [
        "## Define the Replay Buffer ( Deque)\n",
        "\n",
        "class ReplayBuffer:\n",
        "  \"\"\"\n",
        "  Fixed-size buffer to store experience tuples.\n",
        "  \"\"\"\n",
        "  def __init__(self,action_size, buffer_size, batch_size, seed):\n",
        "    self.seed = random.seed(seed)\n",
        "    self.buffer_size = buffer_size\n",
        "    self.batch_size = batch_size\n",
        "    self.action_size = action_size\n",
        "    \n",
        "    \n",
        "    self.experience = namedtuple(\"Experience\", field_names =[\"state\", \"actions\",\"rewards\",\"next_state\", \"done\"])\n",
        "    self.memory = deque(maxlen= buffer_size)\n",
        "    \n",
        "  def add(self, state, action,rewards, next_state, done):\n",
        "    \n",
        "    \n",
        "    \n",
        "    ##print('**',state.shape)\n",
        "    state = np.expand_dims(state, axis=0)\n",
        "    next_state = np.expand_dims(next_state, axis=0)\n",
        "    ##print('**',state.shape)\n",
        "    \n",
        "      \n",
        "    experience = self.experience(state, action,rewards,next_state, done)\n",
        "    ##print('12',experience.state.shape)\n",
        "    self.memory.append(experience)\n",
        "      \n",
        "  def sample(self):\n",
        "    '''\n",
        "    Randomly sample a batch from experience\n",
        "    '''\n",
        "      \n",
        "    experiences = random.sample(self.memory,k = self.batch_size)\n",
        "      \n",
        "    state = torch.from_numpy(np.vstack([e.state for e in experiences if e is not None])).float().to(device)\n",
        "    actions = torch.from_numpy(np.vstack([e.actions for e in experiences if e is not None])).long().to(device)  ## dont change to float\n",
        "    rewards = torch.from_numpy(np.vstack([e.rewards for e in experiences if e is not None])).float().to(device)\n",
        "    next_state = torch.from_numpy(np.vstack([e.next_state for e in experiences if e is not None])).float().to(device)\n",
        "    done = torch.from_numpy(np.vstack([e.done for e in experiences if e is not None])).float().to(device)\n",
        "    \n",
        "    #print('34',state.shape)\n",
        "      \n",
        "    return state,actions, rewards, next_state, done\n",
        "  def __len__(self):\n",
        "    \"\"\"\n",
        "    Return the current size of internal memory.\n",
        "    \"\"\"\n",
        "    return len(self.memory)\n",
        "    \n"
      ],
      "execution_count": 0,
      "outputs": []
    },
    {
      "cell_type": "code",
      "metadata": {
        "id": "eNIDM9j5p5dD",
        "colab_type": "code",
        "colab": {}
      },
      "source": [
        "## Define the Agent\n",
        "\n",
        "class Agent():\n",
        "  '''\n",
        "  Interacts with and learns from the environment.\n",
        "  '''\n",
        "  def __init__(self,state_size,action_size, seed,batch_size= BATCH_SIZE,buffer_size= BUFFER_SIZE,lr=LR , gamma= GAMMA ):\n",
        "    \n",
        "    self.state_size = state_size\n",
        "    self.action_size = action_size\n",
        "    self.buffer_size = buffer_size\n",
        "    self.batch_size = batch_size\n",
        "    self.lr = lr\n",
        "    self.gamma = gamma\n",
        "    \n",
        "    self.seed = random.seed(seed)\n",
        "    \n",
        "    # Q-Network\n",
        "    self.qnetwork_local =  QNetwork(self.state_size, self.action_size, seed).to(device)\n",
        "    self.qnetwork_target = QNetwork(self.state_size , self.action_size, seed).to(device)\n",
        "    self.optimizer = optim.Adam(self.qnetwork_local.parameters(),lr= self.lr)\n",
        "    self.criterion = nn.MSELoss()\n",
        "    \n",
        "    # Replay memory\n",
        "    self.memory = ReplayBuffer(action_size, buffer_size, batch_size, seed)\n",
        "    # Initialize time step (for updating every UPDATE_EVERY steps)\n",
        "    self.t_step = 0\n",
        "  \n",
        "  \n",
        "  def step(self,state,actions,rewards, next_state,done):\n",
        "    self.memory.add(state,actions,rewards, next_state,done)\n",
        "    self.t_step =(self.t_step + 1)% UPDATE_EVERY\n",
        "    ## dont learn whenever 1 batch is added.\n",
        "    ##Rather wait for UPDATE_EVERY batch to be added before we call learn once\n",
        "    if self.t_step==0:\n",
        "      if len(self.memory)> self.batch_size:\n",
        "        experiences = self.memory.sample()\n",
        "        self.learn(experiences, self.gamma)\n",
        "    \n",
        "  def learn(self,experiences, gamma):\n",
        "    \"\"\"\n",
        "    Update value parameters using given batch of experience tuples.\n",
        "    \"\"\"\n",
        "    state, actions, rewards,next_state, done = experiences \n",
        "    \n",
        "    ##print(target_q.shape)\n",
        "    \n",
        "    #Double DQN\n",
        "    \n",
        "    current_values= self.qnetwork_local(state).gather(1, actions)\n",
        "    #print('current_values',current_values.shape)\n",
        "    target_q = self.qnetwork_local(next_state)\n",
        "    #print(target_q.shape)\n",
        "    #target_q = torch.max(target_q, 1)[1].unsqueeze(1) #get the indices same as argmax\n",
        "    target_q = torch.max(target_q, 1)[1].unsqueeze(1)\n",
        "    #print('actions',actions.shape)\n",
        "    #print('target_q',target_q.shape)\n",
        "    #print(target_q.shape)\n",
        "    target_values = rewards + gamma*self.qnetwork_target(next_state).gather(1, target_q)*(1-done)\n",
        "    \n",
        "    \n",
        "    # Compute loss\n",
        "    loss = self.criterion(current_values,target_values)\n",
        "    \n",
        "    ##optimization step\n",
        "    self.optimizer.zero_grad()\n",
        "    loss.backward()\n",
        "    self.optimizer.step()\n",
        "    \n",
        "    # ----- Update the target network -----\n",
        "    if self.t_step==0:\n",
        "      ## when it comes here self.t_step will always be 0 anyways. \n",
        "      ## So you may remove this if condition\n",
        "      self.soft_update(self.qnetwork_local, self.qnetwork_target,TAU)\n",
        "    \n",
        "  def soft_update(self, qnetwork_local, qnetwork_target,tau):\n",
        "    '''\n",
        "    Update the target Q Network\n",
        "    '''\n",
        "    for local_parms, target_parms in zip(qnetwork_local.parameters(), qnetwork_target.parameters()):\n",
        "      target_parms.data.copy_(tau*local_parms.data + (1.0 -tau)*target_parms.data)\n",
        "        \n",
        "        \n",
        "  def act(self, state, epsilon =0.0):\n",
        "\n",
        "    \"\"\"\n",
        "    Returns actions for given state as per current policy.\n",
        "    \"\"\"\n",
        "    state = torch.from_numpy(state).float().unsqueeze(0).to(device)\n",
        "\n",
        "    self.qnetwork_local.eval()\n",
        "    with torch.no_grad():\n",
        "      actions_values = self.qnetwork_local(state.to(device))\n",
        "\n",
        "    ##Back to train mode\n",
        "    self.qnetwork_local.train()\n",
        "\n",
        "    # Epsilon-greedy action selection\n",
        "\n",
        "    if random.random() > epsilon:\n",
        "      return np.argmax(actions_values.cpu().data.numpy())\n",
        "    else:\n",
        "      return np.random.choice(np.arange(self.action_size))\n",
        "      \n",
        "    "
      ],
      "execution_count": 0,
      "outputs": []
    },
    {
      "cell_type": "markdown",
      "metadata": {
        "id": "6Y--K3prBAWf",
        "colab_type": "text"
      },
      "source": [
        ""
      ]
    },
    {
      "cell_type": "code",
      "metadata": {
        "id": "JAI3vecmgRIE",
        "colab_type": "code",
        "outputId": "5d427311-8cfa-43cd-cb7c-7ba6d18f7d2f",
        "colab": {
          "base_uri": "https://localhost:8080/",
          "height": 67
        }
      },
      "source": [
        "import torch.autograd as autograd \n",
        "\n",
        "agent = Agent(env.observation_space.shape ,env.action_space.n, seed=0 )\n",
        "\n",
        "scores = dqn(n_episodes = 1400000, max_t = 1000, eps_start = 1.0, eps_end = .01, eps_decay = 0.995, trained_score=15.0)\n",
        "# plot the scores\n",
        "fig = plt.figure()\n",
        "ax = fig.add_subplot(111)\n",
        "plt.plot(np.arange(len(scores)) , scores)\n",
        "\n",
        "plt.xlabel('Episodes')\n",
        "plt.ylabel('Scores')\n",
        "plt.show()"
      ],
      "execution_count": 0,
      "outputs": [
        {
          "output_type": "stream",
          "text": [
            "Episode 100\tAverage Score: -16.25\n",
            "Episode 200\tAverage Score: -18.67\n",
            "Episode 214\tAverage Score: -18.42"
          ],
          "name": "stdout"
        }
      ]
    },
    {
      "cell_type": "code",
      "metadata": {
        "id": "WQp7RQok5-2m",
        "colab_type": "code",
        "colab": {}
      },
      "source": [
        ""
      ],
      "execution_count": 0,
      "outputs": []
    },
    {
      "cell_type": "code",
      "metadata": {
        "id": "7aZv2m96g0tW",
        "colab_type": "code",
        "colab": {}
      },
      "source": [
        ""
      ],
      "execution_count": 0,
      "outputs": []
    }
  ]
}